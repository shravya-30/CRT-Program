{
 "cells": [
  {
   "cell_type": "markdown",
   "metadata": {},
   "source": [
    "#Markdowns\n",
    "\n"
   ]
  },
  {
   "cell_type": "code",
   "execution_count": 1,
   "metadata": {},
   "outputs": [],
   "source": [
    "##Markdowns"
   ]
  },
  {
   "cell_type": "markdown",
   "metadata": {},
   "source": [
    "#markdown"
   ]
  },
  {
   "cell_type": "markdown",
   "metadata": {},
   "source": [
    "# markdown\n",
    "## markdown\n",
    "### markdown\n"
   ]
  },
  {
   "cell_type": "code",
   "execution_count": 2,
   "metadata": {},
   "outputs": [
    {
     "ename": "SyntaxError",
     "evalue": "invalid syntax (<ipython-input-2-9d986e03c5df>, line 1)",
     "output_type": "error",
     "traceback": [
      "\u001b[1;36m  File \u001b[1;32m\"<ipython-input-2-9d986e03c5df>\"\u001b[1;36m, line \u001b[1;32m1\u001b[0m\n\u001b[1;33m    * *italic*\u001b[0m\n\u001b[1;37m      ^\u001b[0m\n\u001b[1;31mSyntaxError\u001b[0m\u001b[1;31m:\u001b[0m invalid syntax\n"
     ]
    }
   ],
   "source": [
    "* *italic*"
   ]
  },
  {
   "cell_type": "markdown",
   "metadata": {},
   "source": [
    "* *italic*"
   ]
  },
  {
   "cell_type": "markdown",
   "metadata": {},
   "source": [
    "* **bold**"
   ]
  },
  {
   "cell_type": "markdown",
   "metadata": {},
   "source": [
    "* ***bold and italic***"
   ]
  },
  {
   "cell_type": "markdown",
   "metadata": {},
   "source": [
    "- Normal text"
   ]
  },
  {
   "cell_type": "code",
   "execution_count": 3,
   "metadata": {},
   "outputs": [
    {
     "ename": "NameError",
     "evalue": "name 'subtext1' is not defined",
     "output_type": "error",
     "traceback": [
      "\u001b[1;31m---------------------------------------------------------------------------\u001b[0m",
      "\u001b[1;31mNameError\u001b[0m                                 Traceback (most recent call last)",
      "\u001b[1;32m<ipython-input-3-c60fdcb82212>\u001b[0m in \u001b[0;36m<module>\u001b[1;34m\u001b[0m\n\u001b[1;32m----> 1\u001b[1;33m \u001b[1;33m-\u001b[0m \u001b[0msubtext1\u001b[0m\u001b[1;33m\u001b[0m\u001b[1;33m\u001b[0m\u001b[0m\n\u001b[0m",
      "\u001b[1;31mNameError\u001b[0m: name 'subtext1' is not defined"
     ]
    }
   ],
   "source": [
    "    - subtext1"
   ]
  },
  {
   "cell_type": "markdown",
   "metadata": {},
   "source": [
    "    - subtext1"
   ]
  },
  {
   "cell_type": "markdown",
   "metadata": {},
   "source": [
    "    - subtext1\n",
    "    "
   ]
  },
  {
   "cell_type": "markdown",
   "metadata": {},
   "source": [
    "- Normal text\n",
    "    - subtext1\n",
    "    - subtext2"
   ]
  },
  {
   "cell_type": "markdown",
   "metadata": {},
   "source": [
    "![image]https://www.google.com/imgres?imgurl=https%3A%2F%2Fi.udemycdn.com%2Fcourse%2F750x422%2F1817082_cf8a_9.jpg&imgrefurl=https%3A%2F%2Fwww.udemy.com%2Fcourse%2Fpython-beginner-to-advanced-with-web-scraping-projects%2F&tbnid=8pLHpXl2sur_qM&vet=12ahUKEwjVgOPJ05jmAhV0lHAKHUnYAoQQMygIegUIARCQAg..i&docid=R83VRdTWCddOiM&w=750&h=422&q=python%20programming&ved=2ahUKEwjVgOPJ05jmAhV0lHAKHUnYAoQQMygIegUIARCQAg"
   ]
  },
  {
   "cell_type": "markdown",
   "metadata": {},
   "source": [
    "![image](https://www.google.com/imgres?imgurl=https%3A%2F%2Fi.udemycdn.com%2Fcourse%2F750x422%2F1817082_cf8a_9.jpg&imgrefurl=https%3A%2F%2Fwww.udemy.com%2Fcourse%2Fpython-beginner-to-advanced-with-web-scraping-projects%2F&tbnid=8pLHpXl2sur_qM&vet=12ahUKEwjVgOPJ05jmAhV0lHAKHUnYAoQQMygIegUIARCQAg..i&docid=R83VRdTWCddOiM&w=750&h=422&q=python%20programming&ved=2ahUKEwjVgOPJ05jmAhV0lHAKHUnYAoQQMygIegUIARCQAg)"
   ]
  },
  {
   "cell_type": "markdown",
   "metadata": {},
   "source": [
    "![image](data:image/jpeg;base64,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)"
   ]
  },
  {
   "cell_type": "markdown",
   "metadata": {},
   "source": [
    "[1](https://drive.google.com/drive/my-drive)"
   ]
  },
  {
   "cell_type": "markdown",
   "metadata": {},
   "source": [
    "[1](https://drive.google.com/drive/my-drive)"
   ]
  },
  {
   "cell_type": "code",
   "execution_count": 5,
   "metadata": {},
   "outputs": [
    {
     "name": "stdout",
     "output_type": "stream",
     "text": [
      "Hello,Gitam\n",
      "Hi\n"
     ]
    }
   ],
   "source": [
    "print(\"Hello,Gitam\")\n",
    "print(\"Hi\")"
   ]
  },
  {
   "cell_type": "code",
   "execution_count": 6,
   "metadata": {},
   "outputs": [
    {
     "name": "stdout",
     "output_type": "stream",
     "text": [
      "Hello||good morning\n"
     ]
    }
   ],
   "source": [
    "print(\"Hello\", end=\"||\")\n",
    "print(\"good morning\")"
   ]
  },
  {
   "cell_type": "code",
   "execution_count": 7,
   "metadata": {},
   "outputs": [
    {
     "name": "stdout",
     "output_type": "stream",
     "text": [
      "Hello@good morning\n"
     ]
    }
   ],
   "source": [
    "print(\"Hello\", end=\"@\")\n",
    "print(\"good morning\")"
   ]
  },
  {
   "cell_type": "markdown",
   "metadata": {},
   "source": [
    "a = 10 # Single variable assignment\n",
    "a, b, c = 1 # Multi variable assignment\n",
    "a, b, c = 1,2,3 # Multi variable assignment with different values"
   ]
  },
  {
   "cell_type": "code",
   "execution_count": 10,
   "metadata": {},
   "outputs": [
    {
     "data": {
      "text/plain": [
       "int"
      ]
     },
     "execution_count": 10,
     "metadata": {},
     "output_type": "execute_result"
    }
   ],
   "source": [
    "a = \"Python\"\n",
    "b = \"p\"\n",
    "type(a)\n",
    "c = 10\n",
    "type(c)"
   ]
  },
  {
   "cell_type": "code",
   "execution_count": 11,
   "metadata": {},
   "outputs": [
    {
     "name": "stdout",
     "output_type": "stream",
     "text": [
      "1519503664\n"
     ]
    },
    {
     "data": {
      "text/plain": [
       "1519503664"
      ]
     },
     "execution_count": 11,
     "metadata": {},
     "output_type": "execute_result"
    }
   ],
   "source": [
    "a = 10\n",
    "b = 10\n",
    "print(id(a))\n",
    "id(b)"
   ]
  },
  {
   "cell_type": "code",
   "execution_count": 12,
   "metadata": {},
   "outputs": [
    {
     "name": "stdout",
     "output_type": "stream",
     "text": [
      "<class 'float'>\n"
     ]
    },
    {
     "data": {
      "text/plain": [
       "65754656"
      ]
     },
     "execution_count": 12,
     "metadata": {},
     "output_type": "execute_result"
    }
   ],
   "source": [
    "a = 10.5\n",
    "print(type(a))\n",
    "id(a)"
   ]
  },
  {
   "cell_type": "code",
   "execution_count": 13,
   "metadata": {},
   "outputs": [
    {
     "name": "stdout",
     "output_type": "stream",
     "text": [
      "My name is abc &age is: 10\n"
     ]
    }
   ],
   "source": [
    "name = \"abc\"\n",
    "age = \"10\"\n",
    "print(\"My name is\", name, \"&age is:\",age)"
   ]
  },
  {
   "cell_type": "code",
   "execution_count": 14,
   "metadata": {},
   "outputs": [
    {
     "name": "stdout",
     "output_type": "stream",
     "text": [
      "10.5 10 10\n"
     ]
    }
   ],
   "source": [
    "a,b,c ==7\n",
    "print(a,b,c)"
   ]
  },
  {
   "cell_type": "code",
   "execution_count": 17,
   "metadata": {},
   "outputs": [
    {
     "name": "stdout",
     "output_type": "stream",
     "text": [
      "10 20 30\n"
     ]
    }
   ],
   "source": [
    "l,m,n =(10,20,30)\n",
    "print(l,m,n)"
   ]
  },
  {
   "cell_type": "code",
   "execution_count": 18,
   "metadata": {},
   "outputs": [
    {
     "name": "stdout",
     "output_type": "stream",
     "text": [
      "7 7 7\n"
     ]
    }
   ],
   "source": [
    "a=b=c=7\n",
    "print(a,b,c)"
   ]
  },
  {
   "cell_type": "code",
   "execution_count": 19,
   "metadata": {},
   "outputs": [
    {
     "name": "stdout",
     "output_type": "stream",
     "text": [
      "Enter the stringPython\n"
     ]
    },
    {
     "data": {
      "text/plain": [
       "'Python'"
      ]
     },
     "execution_count": 19,
     "metadata": {},
     "output_type": "execute_result"
    }
   ],
   "source": [
    "input(\"Enter the string\")"
   ]
  },
  {
   "cell_type": "code",
   "execution_count": 20,
   "metadata": {},
   "outputs": [
    {
     "name": "stdout",
     "output_type": "stream",
     "text": [
      "enter a number154\n"
     ]
    },
    {
     "data": {
      "text/plain": [
       "str"
      ]
     },
     "execution_count": 20,
     "metadata": {},
     "output_type": "execute_result"
    }
   ],
   "source": [
    "b=input(\"enter a number\")\n",
    "type(b)"
   ]
  },
  {
   "cell_type": "code",
   "execution_count": 21,
   "metadata": {},
   "outputs": [
    {
     "name": "stdout",
     "output_type": "stream",
     "text": [
      "Enter a number123\n"
     ]
    },
    {
     "data": {
      "text/plain": [
       "int"
      ]
     },
     "execution_count": 21,
     "metadata": {},
     "output_type": "execute_result"
    }
   ],
   "source": [
    "c=int(input(\"Enter a number\"))\n",
    "type(c)"
   ]
  },
  {
   "cell_type": "code",
   "execution_count": 22,
   "metadata": {},
   "outputs": [
    {
     "name": "stdout",
     "output_type": "stream",
     "text": [
      "enter a number456\n"
     ]
    },
    {
     "data": {
      "text/plain": [
       "float"
      ]
     },
     "execution_count": 22,
     "metadata": {},
     "output_type": "execute_result"
    }
   ],
   "source": [
    "d=float(input(\"enter a number\"))\n",
    "type(d)"
   ]
  },
  {
   "cell_type": "code",
   "execution_count": 23,
   "metadata": {},
   "outputs": [
    {
     "name": "stdout",
     "output_type": "stream",
     "text": [
      "enter a number12\n",
      "enter a number34\n",
      "46\n"
     ]
    }
   ],
   "source": [
    "a=int(input(\"enter a number\"))\n",
    "b=int(input(\"enter a number\"))\n",
    "c=a+b\n",
    "print(c)"
   ]
  },
  {
   "cell_type": "code",
   "execution_count": 24,
   "metadata": {},
   "outputs": [
    {
     "name": "stdout",
     "output_type": "stream",
     "text": [
      "enter a number2.34\n",
      "enter a number4.21\n",
      "9.8514\n"
     ]
    }
   ],
   "source": [
    "a=float(input(\"enter a number\"))\n",
    "b=float(input(\"enter a number\"))\n",
    "c=a*b\n",
    "print(c)"
   ]
  },
  {
   "cell_type": "code",
   "execution_count": 25,
   "metadata": {},
   "outputs": [
    {
     "name": "stdout",
     "output_type": "stream",
     "text": [
      "10\n"
     ]
    },
    {
     "data": {
      "text/plain": [
       "int"
      ]
     },
     "execution_count": 25,
     "metadata": {},
     "output_type": "execute_result"
    }
   ],
   "source": [
    "x=10\n",
    "print(x)\n",
    "type(x)"
   ]
  },
  {
   "cell_type": "code",
   "execution_count": 26,
   "metadata": {},
   "outputs": [
    {
     "name": "stdout",
     "output_type": "stream",
     "text": [
      "1.2\n"
     ]
    },
    {
     "data": {
      "text/plain": [
       "float"
      ]
     },
     "execution_count": 26,
     "metadata": {},
     "output_type": "execute_result"
    }
   ],
   "source": [
    "y=1.2\n",
    "print(y)\n",
    "type(y)"
   ]
  },
  {
   "cell_type": "code",
   "execution_count": 27,
   "metadata": {},
   "outputs": [
    {
     "name": "stdout",
     "output_type": "stream",
     "text": [
      "(2+3j)\n"
     ]
    },
    {
     "data": {
      "text/plain": [
       "complex"
      ]
     },
     "execution_count": 27,
     "metadata": {},
     "output_type": "execute_result"
    }
   ],
   "source": [
    "z=2+3j\n",
    "print(z)\n",
    "type(z)"
   ]
  },
  {
   "cell_type": "code",
   "execution_count": 28,
   "metadata": {},
   "outputs": [
    {
     "data": {
      "text/plain": [
       "12.0"
      ]
     },
     "execution_count": 28,
     "metadata": {},
     "output_type": "execute_result"
    }
   ],
   "source": [
    "x=float(12)\n",
    "x"
   ]
  },
  {
   "cell_type": "code",
   "execution_count": 29,
   "metadata": {},
   "outputs": [
    {
     "data": {
      "text/plain": [
       "(2+1j)"
      ]
     },
     "execution_count": 29,
     "metadata": {},
     "output_type": "execute_result"
    }
   ],
   "source": [
    "y=complex(2,1)\n",
    "y"
   ]
  },
  {
   "cell_type": "code",
   "execution_count": 30,
   "metadata": {},
   "outputs": [
    {
     "name": "stdout",
     "output_type": "stream",
     "text": [
      "(4+8j)\n",
      "-2j\n",
      "(-11+16j)\n"
     ]
    }
   ],
   "source": [
    "d=2+3j\n",
    "e=2+5j\n",
    "print(d+e)\n",
    "print(d-e)\n",
    "print(d*e)"
   ]
  },
  {
   "cell_type": "code",
   "execution_count": 31,
   "metadata": {},
   "outputs": [
    {
     "data": {
      "text/plain": [
       "bool"
      ]
     },
     "execution_count": 31,
     "metadata": {},
     "output_type": "execute_result"
    }
   ],
   "source": [
    "a=True\n",
    "type(a)"
   ]
  },
  {
   "cell_type": "code",
   "execution_count": 32,
   "metadata": {},
   "outputs": [
    {
     "data": {
      "text/plain": [
       "bool"
      ]
     },
     "execution_count": 32,
     "metadata": {},
     "output_type": "execute_result"
    }
   ],
   "source": [
    "b=False\n",
    "type(b)"
   ]
  },
  {
   "cell_type": "code",
   "execution_count": 33,
   "metadata": {},
   "outputs": [
    {
     "data": {
      "text/plain": [
       "True"
      ]
     },
     "execution_count": 33,
     "metadata": {},
     "output_type": "execute_result"
    }
   ],
   "source": [
    "a>b"
   ]
  },
  {
   "cell_type": "code",
   "execution_count": 34,
   "metadata": {},
   "outputs": [
    {
     "data": {
      "text/plain": [
       "True"
      ]
     },
     "execution_count": 34,
     "metadata": {},
     "output_type": "execute_result"
    }
   ],
   "source": [
    "True>False"
   ]
  },
  {
   "cell_type": "code",
   "execution_count": 35,
   "metadata": {},
   "outputs": [
    {
     "name": "stdout",
     "output_type": "stream",
     "text": [
      "abc\n"
     ]
    },
    {
     "data": {
      "text/plain": [
       "'def'"
      ]
     },
     "execution_count": 35,
     "metadata": {},
     "output_type": "execute_result"
    }
   ],
   "source": [
    "#Strings\n",
    "s1= \"abc\"\n",
    "s2='def'\n",
    "print(s1)\n",
    "s2"
   ]
  },
  {
   "cell_type": "code",
   "execution_count": 36,
   "metadata": {},
   "outputs": [
    {
     "data": {
      "text/plain": [
       "str"
      ]
     },
     "execution_count": 36,
     "metadata": {},
     "output_type": "execute_result"
    }
   ],
   "source": [
    "type(s1)\n",
    "type(s2)"
   ]
  },
  {
   "cell_type": "code",
   "execution_count": 37,
   "metadata": {},
   "outputs": [
    {
     "name": "stdout",
     "output_type": "stream",
     "text": [
      "<class 'int'>\n"
     ]
    }
   ],
   "source": [
    "i=100\n",
    "print(type(i))"
   ]
  },
  {
   "cell_type": "code",
   "execution_count": 38,
   "metadata": {},
   "outputs": [
    {
     "name": "stdout",
     "output_type": "stream",
     "text": [
      "100\n"
     ]
    },
    {
     "data": {
      "text/plain": [
       "str"
      ]
     },
     "execution_count": 38,
     "metadata": {},
     "output_type": "execute_result"
    }
   ],
   "source": [
    "s1=str(i)\n",
    "print(s1)\n",
    "type(s1)"
   ]
  },
  {
   "cell_type": "code",
   "execution_count": 39,
   "metadata": {},
   "outputs": [
    {
     "name": "stdout",
     "output_type": "stream",
     "text": [
      "100.0\n"
     ]
    },
    {
     "data": {
      "text/plain": [
       "float"
      ]
     },
     "execution_count": 39,
     "metadata": {},
     "output_type": "execute_result"
    }
   ],
   "source": [
    "f1=float(i)\n",
    "print(f1)\n",
    "type(f1)"
   ]
  },
  {
   "cell_type": "code",
   "execution_count": 40,
   "metadata": {},
   "outputs": [
    {
     "name": "stdout",
     "output_type": "stream",
     "text": [
      "<class 'str'>\n"
     ]
    }
   ],
   "source": [
    "s=\"100\"\n",
    "print(type(s))"
   ]
  },
  {
   "cell_type": "code",
   "execution_count": 41,
   "metadata": {},
   "outputs": [
    {
     "data": {
      "text/plain": [
       "int"
      ]
     },
     "execution_count": 41,
     "metadata": {},
     "output_type": "execute_result"
    }
   ],
   "source": [
    "a=int(s)\n",
    "type(a)"
   ]
  },
  {
   "cell_type": "code",
   "execution_count": 42,
   "metadata": {},
   "outputs": [
    {
     "data": {
      "text/plain": [
       "float"
      ]
     },
     "execution_count": 42,
     "metadata": {},
     "output_type": "execute_result"
    }
   ],
   "source": [
    "f=1.5\n",
    "type(f)"
   ]
  },
  {
   "cell_type": "code",
   "execution_count": 43,
   "metadata": {},
   "outputs": [
    {
     "data": {
      "text/plain": [
       "int"
      ]
     },
     "execution_count": 43,
     "metadata": {},
     "output_type": "execute_result"
    }
   ],
   "source": [
    "a1=int(f)\n",
    "type(a1)"
   ]
  },
  {
   "cell_type": "code",
   "execution_count": 44,
   "metadata": {},
   "outputs": [
    {
     "data": {
      "text/plain": [
       "4"
      ]
     },
     "execution_count": 44,
     "metadata": {},
     "output_type": "execute_result"
    }
   ],
   "source": [
    "a='1234'\n",
    "len(a)"
   ]
  },
  {
   "cell_type": "code",
   "execution_count": 45,
   "metadata": {},
   "outputs": [
    {
     "name": "stdout",
     "output_type": "stream",
     "text": [
      "5\n",
      "-1\n",
      "6\n",
      "0.6666666666666666\n",
      "2\n",
      "0\n",
      "8\n"
     ]
    }
   ],
   "source": [
    "n1=2\n",
    "n2=3\n",
    "print(n1+n2)\n",
    "print(n1-n2)\n",
    "print(n1*n2)\n",
    "print(n1/n2)\n",
    "print(n1%n2)\n",
    "print(n1//n2)\n",
    "print(n1**n2)\n"
   ]
  },
  {
   "cell_type": "code",
   "execution_count": 46,
   "metadata": {},
   "outputs": [
    {
     "data": {
      "text/plain": [
       "2.0"
      ]
     },
     "execution_count": 46,
     "metadata": {},
     "output_type": "execute_result"
    }
   ],
   "source": [
    "4/2"
   ]
  },
  {
   "cell_type": "code",
   "execution_count": 47,
   "metadata": {},
   "outputs": [
    {
     "data": {
      "text/plain": [
       "0"
      ]
     },
     "execution_count": 47,
     "metadata": {},
     "output_type": "execute_result"
    }
   ],
   "source": [
    "4%2"
   ]
  },
  {
   "cell_type": "code",
   "execution_count": 48,
   "metadata": {},
   "outputs": [
    {
     "data": {
      "text/plain": [
       "2"
      ]
     },
     "execution_count": 48,
     "metadata": {},
     "output_type": "execute_result"
    }
   ],
   "source": [
    "4//2"
   ]
  },
  {
   "cell_type": "code",
   "execution_count": 49,
   "metadata": {},
   "outputs": [
    {
     "data": {
      "text/plain": [
       "16"
      ]
     },
     "execution_count": 49,
     "metadata": {},
     "output_type": "execute_result"
    }
   ],
   "source": [
    "4**2"
   ]
  },
  {
   "cell_type": "code",
   "execution_count": 50,
   "metadata": {},
   "outputs": [
    {
     "data": {
      "text/plain": [
       "2.4"
      ]
     },
     "execution_count": 50,
     "metadata": {},
     "output_type": "execute_result"
    }
   ],
   "source": [
    "12/5"
   ]
  },
  {
   "cell_type": "code",
   "execution_count": 51,
   "metadata": {},
   "outputs": [
    {
     "data": {
      "text/plain": [
       "-2.4"
      ]
     },
     "execution_count": 51,
     "metadata": {},
     "output_type": "execute_result"
    }
   ],
   "source": [
    "-12/5"
   ]
  },
  {
   "cell_type": "code",
   "execution_count": 52,
   "metadata": {},
   "outputs": [
    {
     "data": {
      "text/plain": [
       "-3"
      ]
     },
     "execution_count": 52,
     "metadata": {},
     "output_type": "execute_result"
    }
   ],
   "source": [
    "-12//5"
   ]
  },
  {
   "cell_type": "code",
   "execution_count": 53,
   "metadata": {},
   "outputs": [
    {
     "name": "stdout",
     "output_type": "stream",
     "text": [
      "False\n",
      "True\n",
      "False\n"
     ]
    }
   ],
   "source": [
    "x=2\n",
    "y=3\n",
    "print(x>=5 and x<10)\n",
    "print(x>=5 or x<=10)\n",
    "print(not(x))"
   ]
  },
  {
   "cell_type": "code",
   "execution_count": 54,
   "metadata": {},
   "outputs": [
    {
     "name": "stdout",
     "output_type": "stream",
     "text": [
      "False\n",
      "True\n",
      "True\n",
      "False\n",
      "True\n",
      "False\n"
     ]
    }
   ],
   "source": [
    "x=2\n",
    "y=3\n",
    "print(x==y)\n",
    "print(x!=y)\n",
    "print(x<y)\n",
    "print(x>y)\n",
    "print(x<=y)\n",
    "print(x>=y)\n"
   ]
  },
  {
   "cell_type": "code",
   "execution_count": 55,
   "metadata": {},
   "outputs": [
    {
     "name": "stdout",
     "output_type": "stream",
     "text": [
      "True\n",
      "False\n"
     ]
    }
   ],
   "source": [
    "str1=\"abc\"\n",
    "print('a' in str1)\n",
    "print('a' not in str1)"
   ]
  },
  {
   "cell_type": "code",
   "execution_count": 56,
   "metadata": {},
   "outputs": [
    {
     "name": "stdout",
     "output_type": "stream",
     "text": [
      "positive\n"
     ]
    }
   ],
   "source": [
    "a=10\n",
    "if a>0:\n",
    "    print(\"positive\")"
   ]
  },
  {
   "cell_type": "code",
   "execution_count": 57,
   "metadata": {},
   "outputs": [
    {
     "name": "stdout",
     "output_type": "stream",
     "text": [
      "positive\n"
     ]
    }
   ],
   "source": [
    "a=10\n",
    "if a>0:\n",
    "    print(\"positive\")\n",
    "else:\n",
    "    print(\"negative\")"
   ]
  },
  {
   "cell_type": "code",
   "execution_count": 58,
   "metadata": {},
   "outputs": [
    {
     "name": "stdout",
     "output_type": "stream",
     "text": [
      "negative\n"
     ]
    }
   ],
   "source": [
    "a=0\n",
    "if a>0:\n",
    "    print(\"positive\")\n",
    "else:\n",
    "    print(\"negative\")"
   ]
  },
  {
   "cell_type": "code",
   "execution_count": 59,
   "metadata": {},
   "outputs": [
    {
     "name": "stdout",
     "output_type": "stream",
     "text": [
      "zero\n"
     ]
    }
   ],
   "source": [
    "a=0\n",
    "if a>0:\n",
    "    print(\"positive\")\n",
    "elif a<0:\n",
    "    print(\"negative\")\n",
    "else:\n",
    "    print(\"zero\")"
   ]
  },
  {
   "cell_type": "code",
   "execution_count": 61,
   "metadata": {},
   "outputs": [
    {
     "name": "stdout",
     "output_type": "stream",
     "text": [
      "enter the number-4\n",
      "negative\n"
     ]
    }
   ],
   "source": [
    "a=int(input(\"enter the number\"))\n",
    "if a>0:\n",
    "    print(\"positive\")\n",
    "elif a<0:\n",
    "    print(\"negative\")\n",
    "else:\n",
    "    print(\"zero\")"
   ]
  }
 ],
 "metadata": {
  "kernelspec": {
   "display_name": "Python 3",
   "language": "python",
   "name": "python3"
  },
  "language_info": {
   "codemirror_mode": {
    "name": "ipython",
    "version": 3
   },
   "file_extension": ".py",
   "mimetype": "text/x-python",
   "name": "python",
   "nbconvert_exporter": "python",
   "pygments_lexer": "ipython3",
   "version": "3.7.3"
  }
 },
 "nbformat": 4,
 "nbformat_minor": 2
}
